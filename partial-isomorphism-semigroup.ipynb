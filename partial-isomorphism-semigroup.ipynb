{
 "cells": [
  {
   "cell_type": "markdown",
   "metadata": {},
   "source": [
    "# Compute the semigroup of partial isomorphisms of a graph\n",
    "Given a graph (V,E) a partial isomorphism is a partial permutation f of V\n",
    "where there is an edge between two vertices v and w in dom(f) if and only if there is one between\n",
    "f(v) and f(w).\n",
    "\n",
    "For the code see [this repository](https://github.com/ssiccha/aut-semigroup)."
   ]
  },
  {
   "cell_type": "code",
   "execution_count": 5,
   "metadata": {},
   "outputs": [],
   "source": [
    "Read(\"read.g\");"
   ]
  },
  {
   "cell_type": "markdown",
   "metadata": {},
   "source": [
    "Construct a 3 by 3 lattice of vertices, where each is connected to its horizontal and vertical neighbours (not wrapping around from the left side to the right side)."
   ]
  },
  {
   "cell_type": "code",
   "execution_count": 6,
   "metadata": {},
   "outputs": [],
   "source": [
    "res := constructMeshAndAutSubsemi( 3 );;                                                                    "
   ]
  },
  {
   "cell_type": "code",
   "execution_count": 7,
   "metadata": {},
   "outputs": [
    {
     "name": "stdout",
     "output_type": "stream",
     "text": [
      "Computing size...0s\n",
      "--- size: 6466, gens: 8 ---\n",
      "Computing size...0s\n",
      "--- size: 6978, gens: 9 ---\n",
      "Computing size...0s\n",
      "--- size: 8770, gens: 10 ---\n",
      "Computing size...0s\n",
      "--- size: 8994, gens: 11 ---\n",
      "Computing size...0s\n",
      "--- size: 9634, gens: 12 ---\n",
      "Computing size...0s\n",
      "--- size: 9986, gens: 13 ---\n",
      "Computing size...0s\n",
      "--- size: 10178, gens: 14 ---\n",
      "Computing size...0s\n",
      "--- size: 10306, gens: 15 ---\n",
      "Computing size...0s\n",
      "--- size: 10338, gens: 16 ---\n"
     ]
    }
   ],
   "source": [
    "G := computePartialIsoSemigroup( res.mesh, res.autGens );;"
   ]
  },
  {
   "cell_type": "code",
   "execution_count": 10,
   "metadata": {},
   "outputs": [
    {
     "data": {
      "text/plain": [
       "[ (1,7,9,3)(2,4,8,6)(5), (1,3)(2)(4,6)(5)(7,9)(8), [1,4,7][2,5,8][3,6,9], <identity partial perm on [ 2, 3, 4, 5, 6, 7, 8, 9 ]>, <identity partial perm on [ 1, 3, 4, 5, 6, 7, 8, 9 ]>, <identity partial perm on [ 1, 2, 3, 4, 6, 7, 8, 9 ]>, [3,5](1)(2), (1)(2)(3,5), (1)(2)(3,5)(6), (1)(2)(4)(5)(6,8), (1,2)(4,5)(6,7), [4,6][7,9](1,5,3)(2), [3,1,5][4,8][7,9](2), [3,1][6,4,8][7,9](2)(5), [3,1][7,9](2)(4,8,6)(5), <identity partial perm on [ 1, 2, 3, 4, 5, 6, 7, 8, 9 ]> ]"
      ]
     },
     "execution_count": 10,
     "metadata": {
      "text/plain": ""
     },
     "output_type": "execute_result"
    }
   ],
   "source": [
    "GeneratorsOfInverseSemigroup(G.G);"
   ]
  },
  {
   "cell_type": "code",
   "execution_count": null,
   "metadata": {},
   "outputs": [],
   "source": []
  }
 ],
 "metadata": {
  "kernelspec": {
   "display_name": "GAP 4 (native)",
   "language": "gap",
   "name": "gap-native"
  },
  "language_info": {
   "codemirror_mode": "gap",
   "file_extension": ".g",
   "mimetype": "text/x-gap",
   "name": "GAP (native)",
   "nbconvert_exporter": "",
   "pygments_lexer": "gap",
   "version": "4.dev"
  }
 },
 "nbformat": 4,
 "nbformat_minor": 2
}
